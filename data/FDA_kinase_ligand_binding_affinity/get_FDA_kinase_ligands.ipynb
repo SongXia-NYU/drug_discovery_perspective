{
 "cells": [
  {
   "cell_type": "code",
   "execution_count": 1,
   "id": "dbe31037",
   "metadata": {},
   "outputs": [],
   "source": [
    "import mmcif\n",
    "from mmcif.io.IoAdapterCore import IoAdapterCore\n",
    "import pandas as pd"
   ]
  },
  {
   "cell_type": "code",
   "execution_count": 2,
   "id": "7d6c15c2",
   "metadata": {},
   "outputs": [],
   "source": [
    "io = IoAdapterCore()"
   ]
  },
  {
   "cell_type": "code",
   "execution_count": 3,
   "id": "a22f82d1",
   "metadata": {},
   "outputs": [],
   "source": [
    "pdb_list = []\n",
    "with open(\"./pdbx-mmcif/JMC_PDB_cif.txt\", 'r', encoding='utf-8-sig') as f1:\n",
    "    lines = f1.readlines()\n",
    "    for line in lines:\n",
    "        pdb_list.append(line.strip().split('/')[0])"
   ]
  },
  {
   "cell_type": "code",
   "execution_count": 4,
   "id": "257e4952",
   "metadata": {},
   "outputs": [],
   "source": [
    "bindingDB_list = []\n",
    "with open(\"BindingDB_PDB.txt\") as f1:\n",
    "    lines = f1.readlines()\n",
    "    for line in lines:\n",
    "        bindingDB_list.append(line.strip())"
   ]
  },
  {
   "cell_type": "code",
   "execution_count": 5,
   "id": "254574d9",
   "metadata": {},
   "outputs": [],
   "source": [
    "bindingDB_sel = [pdb.split('.')[0] for pdb in pdb_list if pdb.split('.')[0] in bindingDB_list]"
   ]
  },
  {
   "cell_type": "code",
   "execution_count": 6,
   "id": "11cb6626",
   "metadata": {},
   "outputs": [],
   "source": [
    "path = \"./pdbx-mmcif/\"\n",
    "data_container = io.readFile(path+\"1IEP.cif\")[0]"
   ]
  },
  {
   "cell_type": "code",
   "execution_count": 82,
   "id": "8be8c259",
   "metadata": {},
   "outputs": [
    {
     "ename": "AttributeError",
     "evalue": "'NoneType' object has no attribute 'selectIndices'",
     "output_type": "error",
     "traceback": [
      "\u001b[0;31m---------------------------------------------------------------------------\u001b[0m",
      "\u001b[0;31mAttributeError\u001b[0m                            Traceback (most recent call last)",
      "\u001b[0;32m/var/folders/wp/n1skbfwj5pj_dx8ylpgzwb080000gn/T/ipykernel_21093/278399959.py\u001b[0m in \u001b[0;36m<module>\u001b[0;34m\u001b[0m\n\u001b[1;32m      1\u001b[0m \u001b[0mloi\u001b[0m \u001b[0;34m=\u001b[0m \u001b[0mdata_container\u001b[0m\u001b[0;34m.\u001b[0m\u001b[0mgetObj\u001b[0m\u001b[0;34m(\u001b[0m\u001b[0;34m'pdbx_entity_instance_feature'\u001b[0m\u001b[0;34m)\u001b[0m\u001b[0;34m\u001b[0m\u001b[0;34m\u001b[0m\u001b[0m\n\u001b[0;32m----> 2\u001b[0;31m \u001b[0mindex_doi\u001b[0m \u001b[0;34m=\u001b[0m \u001b[0mloi\u001b[0m\u001b[0;34m.\u001b[0m\u001b[0mselectIndices\u001b[0m\u001b[0;34m(\u001b[0m\u001b[0;34m\"SUBJECT OF INVESTIGATION\"\u001b[0m\u001b[0;34m,\u001b[0m \u001b[0;34m\"feature_type\"\u001b[0m\u001b[0;34m)\u001b[0m\u001b[0;34m\u001b[0m\u001b[0;34m\u001b[0m\u001b[0m\n\u001b[0m\u001b[1;32m      3\u001b[0m \u001b[0mnonpoly\u001b[0m \u001b[0;34m=\u001b[0m \u001b[0mdata_container\u001b[0m\u001b[0;34m.\u001b[0m\u001b[0mgetObj\u001b[0m\u001b[0;34m(\u001b[0m\u001b[0;34m'pdbx_entity_nonpoly'\u001b[0m\u001b[0;34m)\u001b[0m\u001b[0;34m\u001b[0m\u001b[0;34m\u001b[0m\u001b[0m\n\u001b[1;32m      4\u001b[0m \u001b[0mccd_id\u001b[0m \u001b[0;34m=\u001b[0m \u001b[0mnonpoly\u001b[0m\u001b[0;34m.\u001b[0m\u001b[0mgetValue\u001b[0m\u001b[0;34m(\u001b[0m\u001b[0;34m'comp_id'\u001b[0m\u001b[0;34m,\u001b[0m \u001b[0mindex_doi\u001b[0m\u001b[0;34m[\u001b[0m\u001b[0;36m0\u001b[0m\u001b[0;34m]\u001b[0m\u001b[0;34m)\u001b[0m\u001b[0;34m\u001b[0m\u001b[0;34m\u001b[0m\u001b[0m\n\u001b[1;32m      5\u001b[0m \u001b[0mprint\u001b[0m\u001b[0;34m(\u001b[0m\u001b[0mindex_doi\u001b[0m\u001b[0;34m,\u001b[0m \u001b[0mccd_id\u001b[0m\u001b[0;34m)\u001b[0m\u001b[0;34m\u001b[0m\u001b[0;34m\u001b[0m\u001b[0m\n",
      "\u001b[0;31mAttributeError\u001b[0m: 'NoneType' object has no attribute 'selectIndices'"
     ]
    }
   ],
   "source": [
    "loi = data_container.getObj('pdbx_entity_instance_feature')\n",
    "index_doi = loi.selectIndices(\"SUBJECT OF INVESTIGATION\", \"feature_type\")\n",
    "nonpoly = data_container.getObj('pdbx_entity_nonpoly')\n",
    "ccd_id = nonpoly.getValue('comp_id', index_doi[0])\n",
    "print(index_doi, ccd_id)"
   ]
  },
  {
   "cell_type": "code",
   "execution_count": 114,
   "id": "2c7e0942",
   "metadata": {},
   "outputs": [
    {
     "name": "stdout",
     "output_type": "stream",
     "text": [
      "None\n"
     ]
    }
   ],
   "source": [
    "loi = data_container.getObj('pdbx_entity_instance_feature')\n",
    "print(loi)"
   ]
  },
  {
   "cell_type": "code",
   "execution_count": 130,
   "id": "b3ff3c63",
   "metadata": {},
   "outputs": [
    {
     "name": "stdout",
     "output_type": "stream",
     "text": [
      "name:'pdbx_entity_nonpoly'\n",
      "attrbuteList: ['entity_id', 'name', 'comp_id']\n",
      "Data: [['2', 'CHLORIDE ION', 'CL'], ['3', '4-(4-METHYL-PIPERAZIN-1-YLMETHYL)-N-[4-METHYL-3-(4-PYRIDIN-3-YL-PYRIMIDIN-2-YLAMINO)-PHENYL]-BENZAMIDE', 'STI'], ['4', 'water', 'HOH']]\n",
      "\n",
      "3\n",
      "STI\n"
     ]
    }
   ],
   "source": [
    "data_container = io.readFile(path+\"1IEP.cif\")[0]\n",
    "nonpoly = data_container.getObj('pdbx_entity_nonpoly')\n",
    "# loi = data_container.getObj('pdbx_entity_instance_feature')\n",
    "print(nonpoly)\n",
    "\n",
    "index = []\n",
    "for i,data in enumerate(nonpoly.data):\n",
    "    if len(data[2]) > 2 and data[2] not in [\"HOH\", \"GOL\", \"SO4\", \"PO4\"]:\n",
    "        index.append(data[0])\n",
    "#         print(data[0])\n",
    "        index_doi = nonpoly.getValue('comp_id', i)\n",
    "#         print(index_doi)"
   ]
  },
  {
   "cell_type": "code",
   "execution_count": 129,
   "id": "a9c19134",
   "metadata": {},
   "outputs": [
    {
     "data": {
      "text/plain": [
       "'STI'"
      ]
     },
     "execution_count": 129,
     "metadata": {},
     "output_type": "execute_result"
    }
   ],
   "source": [
    "nonpoly.getValue('comp_id', 1)"
   ]
  },
  {
   "cell_type": "code",
   "execution_count": 124,
   "id": "563df4b3",
   "metadata": {},
   "outputs": [
    {
     "name": "stdout",
     "output_type": "stream",
     "text": [
      "name:'pdbx_entity_nonpoly'\n",
      "attrbuteList: ['entity_id', 'name', 'comp_id']\n",
      "Data: [['2', 'CHLORIDE ION', 'CL'], ['3', '4-(4-METHYL-PIPERAZIN-1-YLMETHYL)-N-[4-METHYL-3-(4-PYRIDIN-3-YL-PYRIMIDIN-2-YLAMINO)-PHENYL]-BENZAMIDE', 'STI'], ['4', 'water', 'HOH']]\n",
      " CL\n"
     ]
    }
   ],
   "source": [
    "nonpoly = data_container.getObj('pdbx_entity_nonpoly')\n",
    "index_doi = nonpoly.getValue('comp_id')\n",
    "print(nonpoly, index_doi)"
   ]
  },
  {
   "cell_type": "code",
   "execution_count": 14,
   "id": "f92e2e21",
   "metadata": {},
   "outputs": [],
   "source": [
    "def get_ligand(cif_file):\n",
    "    data_container = io.readFile(cif_file)[0]\n",
    "    nonpoly = data_container.getObj('pdbx_entity_nonpoly')    \n",
    "    try:\n",
    "        loi = data_container.getObj('pdbx_entity_instance_feature')\n",
    "        index_doi = loi.selectIndices(\"SUBJECT OF INVESTIGATION\", \"feature_type\")\n",
    "        ccd_id = nonpoly.getValue('comp_id', index_doi[0])\n",
    "        return(ccd_id)\n",
    "    except:\n",
    "        ccd_id = []\n",
    "        for i,data in enumerate(nonpoly.data):\n",
    "            if len(data[2]) > 2 and data[2] not in [\"HOH\", \"GOL\", \"SO4\", \"PO4\", \"EDO\", \"CXS\", \"FMT\", \"DTT\", \"SCN\"]:\n",
    "#                 index.append(data[0])\n",
    "        #         print(data[0])\n",
    "                ccd_id.append(nonpoly.getValue('comp_id', i))\n",
    "        return(ccd_id)"
   ]
  },
  {
   "cell_type": "code",
   "execution_count": 10,
   "id": "9aaee1f8",
   "metadata": {},
   "outputs": [],
   "source": [
    "# dLF9XGB = pd.read_csv(\"/Users/ericchen/Desktop/programs/delta_LinF9_XGB/dataset/train_set.csv\")\n",
    "dLF9XGB = pd.read_csv(\"/Users/echen10/Desktop/programs/delta_LinF9_XGB/dataset/train_set.csv\")"
   ]
  },
  {
   "cell_type": "code",
   "execution_count": 11,
   "id": "e4c457de",
   "metadata": {},
   "outputs": [],
   "source": [
    "LF9_training = list(set(dLF9XGB.pdb))"
   ]
  },
  {
   "cell_type": "code",
   "execution_count": 12,
   "id": "183587bb",
   "metadata": {},
   "outputs": [
    {
     "name": "stdout",
     "output_type": "stream",
     "text": [
      "40 ['1IEP', '2ITY', '1M17', '4HJO', '1UWH', '2GQG', '3TI1', '1XKK', '3CS9', '2XP2', '2IVU', '3OG7', '4MXO', '3OXZ', '3IK3', '3LXK', '4G5J', '4XV2', '4MKC', '4XE0', '3C7Q', '3AOX', '4AN2', '3WZD', '4ZAU', '5L2I', '5L2S', '6MX8', '5G2N', '4NCT', '5L2T', '4I24', '6JQR', '4JPS', '5KVT', '4R7H', '4U7Z', '2F2U', '6AAH', '4P7E']\n"
     ]
    }
   ],
   "source": [
    "test_lf9 = [pdb for pdb in bindingDB_sel if pdb not in LF9_training]\n",
    "print(len(test_lf9), test_lf9)"
   ]
  },
  {
   "cell_type": "code",
   "execution_count": 15,
   "id": "6cb35567",
   "metadata": {},
   "outputs": [],
   "source": [
    "path = \"./pdbx-mmcif/\"\n",
    "lig_list = []\n",
    "for pdb in test_lf9:\n",
    "    lig_list.append(get_ligand(path+pdb+\".cif\"))"
   ]
  },
  {
   "cell_type": "code",
   "execution_count": 16,
   "id": "73d07550",
   "metadata": {
    "scrolled": false
   },
   "outputs": [
    {
     "name": "stdout",
     "output_type": "stream",
     "text": [
      "1IEP ['STI']\n",
      "2ITY ['IRE']\n",
      "1M17 ['AQ4']\n",
      "4HJO ['AQ4']\n",
      "1UWH ['BAX']\n",
      "2GQG ['1N1']\n",
      "3TI1 ['B49']\n",
      "1XKK ['FMM']\n",
      "3CS9 ['NIL']\n",
      "2XP2 ['VGH']\n",
      "2IVU ['ZD6']\n",
      "3OG7 ['032']\n",
      "4MXO ['DB8']\n",
      "3OXZ ['0LI']\n",
      "3IK3 ['0LI']\n",
      "3LXK ['MI1']\n",
      "4G5J ['0WN', '0WM']\n",
      "4XV2 ['P06']\n",
      "4MKC ['4MK']\n",
      "4XE0 ['40L']\n",
      "3C7Q ['XIN']\n",
      "3AOX ['EMH']\n",
      "4AN2 ['EUI', 'ACP']\n",
      "3WZD ['LEV']\n",
      "4ZAU ['YY3']\n",
      "5L2I ['LQQ']\n",
      "5L2S ['6ZV']\n",
      "6MX8 ['6GY']\n",
      "5G2N ['6E2']\n",
      "4NCT ['2K2']\n",
      "5L2T ['6ZZ']\n",
      "4I24 ['1C9']\n",
      "6JQR ['C6F']\n",
      "4JPS ['1LT']\n",
      "5KVT ['YMX']\n",
      "4R7H ['P31']\n",
      "4U7Z ['3EW', 'ANP']\n",
      "2F2U ['M77']\n",
      "6AAH ['9T6']\n",
      "4P7E ['2HB']\n"
     ]
    }
   ],
   "source": [
    "for x,y in zip(test_lf9, lig_list):\n",
    "    print(x,y)"
   ]
  },
  {
   "cell_type": "code",
   "execution_count": 20,
   "id": "f31ca3fb",
   "metadata": {},
   "outputs": [
    {
     "data": {
      "text/plain": [
       "'STI IRE AQ4 AQ4 BAX 1N1 B49 FMM NIL VGH ZD6 032 DB8 0LI 0LI MI1 0WM P06 4MK 40L XIN EMH EUI LEV YY3 LQQ 6ZV 6GY 6E2 2K2 6ZZ 1C9 C6F 1LT YMX P31 3EW M77 9T6 2HB'"
      ]
     },
     "execution_count": 20,
     "metadata": {},
     "output_type": "execute_result"
    }
   ],
   "source": [
    "\" \".join([l for lig in lig_list for l in lig if l not in ['0WN', 'ACP', 'ANP']])"
   ]
  },
  {
   "cell_type": "code",
   "execution_count": 41,
   "id": "c678ce1e",
   "metadata": {},
   "outputs": [
    {
     "name": "stdout",
     "output_type": "stream",
     "text": [
      "4-(4-METHYL-PIPERAZIN-1-YLMETHYL)-N-[4-METHYL-3-(4-PYRIDIN-3-YL-PYRIMIDIN-2-YLAMINO)-PHENYL]-BENZAMIDE\n"
     ]
    }
   ],
   "source": [
    "descriptor = data_container.getObj('chem_comp')\n",
    "val = descriptor.getValue(\"name\")\n",
    "print(val)"
   ]
  },
  {
   "cell_type": "code",
   "execution_count": 98,
   "id": "3529631a",
   "metadata": {},
   "outputs": [],
   "source": [
    "def get_lig_cif(cif_path):\n",
    "    data_container = io.readFile(cif_path)[0]\n",
    "    descriptor = data_container.getObj('chem_comp')\n",
    "    name, sys_name, inchikey, smiles_canon = \"\", \"\", \"\", \"\"\n",
    "    name = \"\".join(descriptor.getValue(\"name\").split('\\n'))\n",
    "    \n",
    "    descriptor = data_container.getObj('pdbx_chem_comp_descriptor')\n",
    "    for i in range(descriptor.getRowCount()):\n",
    "        d_row = descriptor.getRowAttributeDict(i)\n",
    "        if d_row[\"type\"]==\"InChIKey\":\n",
    "            inchikey = d_row[\"descriptor\"]\n",
    "        if (d_row[\"type\"]==\"SMILES_CANONICAL\") & (d_row[\"program\"]==\"OpenEye OEToolkits\"):\n",
    "            smiles_canon = d_row[\"descriptor\"]\n",
    "\n",
    "    descriptor = data_container.getObj('pdbx_chem_comp_identifier')\n",
    "    # print(nonpoly.getValue('comp_id'))\n",
    "    for i in range(descriptor.getRowCount()):\n",
    "        d_row = descriptor.getRowAttributeDict(i)\n",
    "        if (d_row[\"type\"]==\"SYSTEMATIC NAME\") & (d_row[\"program\"]==\"OpenEye OEToolkits\"):\n",
    "            sys_name = d_row[\"identifier\"]\n",
    "    \n",
    "    return(name, sys_name, inchikey, smiles_canon)"
   ]
  },
  {
   "cell_type": "code",
   "execution_count": 101,
   "id": "95384d37",
   "metadata": {},
   "outputs": [],
   "source": [
    "path = \"./lig_pdbx/\"\n",
    "df_info = []\n",
    "\n",
    "for pdb in [l for lig in lig_list for l in lig if l not in ['0WN', 'ACP', 'ANP']]:\n",
    "    df_info.append(get_lig_cif(path+pdb+\".cif\"))"
   ]
  },
  {
   "cell_type": "code",
   "execution_count": 102,
   "id": "92a280c4",
   "metadata": {},
   "outputs": [],
   "source": [
    "import csv\n",
    "df = pd.DataFrame(df_info, columns=[\"name\", \"systematic name\", \"InChIKey\", \"SMILES\"])\n",
    "df['PDB']=test_lf9\n",
    "df['LIG']=[l for lig in lig_list for l in lig if l not in ['0WN', 'ACP', 'ANP']]\n",
    "df.to_csv(\"lig_info.csv\", index=False)"
   ]
  },
  {
   "cell_type": "code",
   "execution_count": 76,
   "id": "ccdf86d7",
   "metadata": {},
   "outputs": [],
   "source": [
    "df1 = pd.read_csv(\"lig_info.csv\")"
   ]
  },
  {
   "cell_type": "code",
   "execution_count": null,
   "id": "88973737",
   "metadata": {},
   "outputs": [],
   "source": []
  }
 ],
 "metadata": {
  "kernelspec": {
   "display_name": "Python 3 (ipykernel)",
   "language": "python",
   "name": "python3"
  },
  "language_info": {
   "codemirror_mode": {
    "name": "ipython",
    "version": 3
   },
   "file_extension": ".py",
   "mimetype": "text/x-python",
   "name": "python",
   "nbconvert_exporter": "python",
   "pygments_lexer": "ipython3",
   "version": "3.9.12"
  }
 },
 "nbformat": 4,
 "nbformat_minor": 5
}
