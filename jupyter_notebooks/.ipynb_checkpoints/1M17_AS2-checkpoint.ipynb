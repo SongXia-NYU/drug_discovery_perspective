{
 "cells": [
  {
   "cell_type": "code",
   "execution_count": 1,
   "id": "549afe8a",
   "metadata": {},
   "outputs": [],
   "source": [
    "import mdtraj\n",
    "import glob\n",
    "\n",
    "import numpy as np\n",
    "import alphaspace2 as AS2\n",
    "import alphaspace2.Features as AS2_feat\n",
    "\n",
    "from scipy.spatial.distance import cdist\n",
    "from scipy.cluster.hierarchy import fcluster, linkage\n",
    "from alphaspace2.functions import _binCluster, _group\n",
    "from alphaspace2.Cluster import _DPocket\n",
    "from collections import defaultdict \n",
    "\n",
    "%load_ext autoreload\n",
    "%autoreload 2"
   ]
  },
  {
   "cell_type": "code",
   "execution_count": null,
   "id": "e595bdcd",
   "metadata": {},
   "outputs": [],
   "source": [
    "def strip_h(input_file,output_file):\n",
    "    '''\n",
    "    input_file and output_file need to be in pdb or pdbqt format \n",
    "    '''\n",
    "    inputlines = open(input_file,'r').readlines()\n",
    "    no_h_lines = [l for l in inputlines if not l.split()[-1].startswith('H')] \n",
    "    output = open(output_file,'w')\n",
    "    output.writelines(no_h_lines)\n",
    "    output.close()\n",
    "    \n",
    "# strip_h(\"1M17_A.pdb\", \"1M17_A1.pdb\")\n",
    "# strip_h(\"1M17_A1.pdbqt\", \"1M17_A1_noH.pdbqt\")"
   ]
  },
  {
   "cell_type": "markdown",
   "id": "31035025",
   "metadata": {},
   "source": []
  },
  {
   "cell_type": "code",
   "execution_count": 5,
   "id": "7f248f17",
   "metadata": {},
   "outputs": [],
   "source": [
    "## pdb2pqr corrected PDB file with hydrogens removed\n",
    "prot = mdtraj.load('../data/1M17_data/PDB_files/1M17_A1.pdb')\n",
    "\n",
    "## ligand PDB file\n",
    "lig = mdtraj.load('../data/1M17_data/PDB_files/1M17_A_AQ4.pdb')\n",
    "\n",
    "## PDBQT file (generated from the pdb2pqr file) with hydrogens removed\n",
    "AS2.annotateVinaAtomTypes(pdbqt=\"../data/1M17_data/PDB_files/1M17_A1_noH.pdbqt\", receptor=prot)\n",
    "ss_prot = AS2.Snapshot()\n",
    "ss_prot.run(prot, lig, score_function=\"Lin_F9\")\n"
   ]
  },
  {
   "cell_type": "code",
   "execution_count": 6,
   "id": "ffc82f5d",
   "metadata": {},
   "outputs": [],
   "source": [
    "protease_contact_pockets, protease_contact_pockets_alphas, contact_LinF9_bscore_dict, contact_space_dict,\\\n",
    "    protease_contact_betas, contact_occupancy_dict = defaultdict(dict), defaultdict(dict), defaultdict(dict),\\\n",
    "    defaultdict(dict), defaultdict(dict), defaultdict(dict)\n",
    "\n",
    "for px,pocket in enumerate(ss_prot.pockets):\n",
    "    if pocket.isContact:\n",
    "        protease_contact_betas[px] = pocket\n",
    "        protease_contact_pockets[px] = np.array([b.xyz for b in pocket.betas])\n",
    "        protease_contact_pockets_alphas[px] = np.array([a.xyz for a in pocket.alphas])\n",
    "        contact_LinF9_bscore_dict[px] = np.sum(np.array([min(b.scores) for b in pocket.betas]))\n",
    "        contact_space_dict[px] = np.sum(np.array([b.space for b in pocket.betas]))\n",
    "        contact_occupancy_dict[px] = pocket.occupancy"
   ]
  },
  {
   "cell_type": "code",
   "execution_count": 7,
   "id": "bb09ccc6",
   "metadata": {},
   "outputs": [],
   "source": [
    "ss_prot.run(prot, lig, score_function=\"Vina\")\n",
    "\n",
    "contact_Vina_bscore_dict = defaultdict(dict)\n",
    "for px,pocket in enumerate(ss_prot.pockets):\n",
    "    if pocket.isContact:\n",
    "        contact_Vina_bscore_dict[px] = np.sum(np.array([min(b.scores) for b in pocket.betas]))\n"
   ]
  },
  {
   "cell_type": "code",
   "execution_count": 8,
   "id": "3c985ae0",
   "metadata": {},
   "outputs": [
    {
     "name": "stdout",
     "output_type": "stream",
     "text": [
      "Rank, % Occupancy, Space, β-score (Lin F9), β-score (Vina)\n",
      "0, 80, 403, -5.8, -6.8\n",
      "1, 61, 204, -2.1, -2.4\n",
      "2, 98, 163, -2.3, -3.4\n",
      "3, 61, 68, -1.4, -1.6\n"
     ]
    }
   ],
   "source": [
    "sort_key = sorted(contact_space_dict.items(), key=lambda x:x[1], reverse=True)\n",
    "\n",
    "print(\"Rank, % Occupancy, Space, β-score (Lin F9), β-score (Vina)\")\n",
    "for i,pid in enumerate([item[0] for item in sort_key]): \n",
    "    print(f\"{i}, {int(contact_occupancy_dict[pid]*100)}, {int(contact_space_dict[pid])}, {contact_LinF9_bscore_dict[pid]:2.1f}, {contact_Vina_bscore_dict[pid]:2.1f}\")\n",
    "    "
   ]
  },
  {
   "cell_type": "code",
   "execution_count": null,
   "id": "d322ade9",
   "metadata": {},
   "outputs": [],
   "source": []
  }
 ],
 "metadata": {
  "kernelspec": {
   "display_name": "AS2",
   "language": "python",
   "name": "as2"
  },
  "language_info": {
   "codemirror_mode": {
    "name": "ipython",
    "version": 3
   },
   "file_extension": ".py",
   "mimetype": "text/x-python",
   "name": "python",
   "nbconvert_exporter": "python",
   "pygments_lexer": "ipython3",
   "version": "3.9.16"
  }
 },
 "nbformat": 4,
 "nbformat_minor": 5
}
